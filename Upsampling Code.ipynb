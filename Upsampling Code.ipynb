{
 "cells": [
  {
   "cell_type": "code",
   "execution_count": null,
   "id": "f0c028d9",
   "metadata": {},
   "outputs": [],
   "source": [
    "import os\n",
    "import numpy as np\n",
    "from PIL import Image\n",
    "from keras.preprocessing.image import ImageDataGenerator\n",
    "\n",
    "file_dir = 'C:/Users/Isaya Acevedo/Documents/Northeastern University/2022-2023/Spring/MATH 7243 (Stats & ML Theory)/Project/OneDrive_1_2-3-2023/renders/epidural/epidural/'\n",
    "subfolders = ['brain_bone_window', 'brain_window', 'max_contrast_window', 'subdural_window']\n",
    "output_dir = 'upsampled_images'\n",
    "target_size = (512, 512)\n",
    "\n",
    "\n",
    "if not os.path.exists(output_dir):\n",
    "    os.makedirs(output_dir)\n",
    "\n",
    "for subfolder in subfolders:\n",
    "    subfolder_path = os.path.join(file_dir, subfolder)\n",
    "    if not os.path.exists(os.path.join(output_dir, subfolder)):\n",
    "        os.makedirs(os.path.join(output_dir, subfolder))\n",
    "    \n",
    "    datagen = ImageDataGenerator(\n",
    "        rotation_range=10,\n",
    "        zoom_range=0.1,\n",
    "        width_shift_range=0.1,\n",
    "        height_shift_range=0.1,\n",
    "        shear_range=0.1,\n",
    "        brightness_range=[0.5, 1.5],\n",
    "        channel_shift_range=0.1,\n",
    "        horizontal_flip=True,\n",
    "        vertical_flip=True,\n",
    "        fill_mode='nearest')\n",
    "    \n",
    "    for filename in os.listdir(subfolder_path):\n",
    "        if filename.endswith('.jpg'):\n",
    "            image_path = os.path.join(subfolder_path, filename)\n",
    "            image = Image.open(image_path)\n",
    "            print(f'Reading in image: {filename}')\n",
    "            \n",
    "            # Upsample the image using ImageDataGenerator\n",
    "            img_array = datagen.random_transform(np.array(image))\n",
    "            img = Image.fromarray(np.uint8(img_array), 'RGB')\n",
    "            \n",
    "             # Resize the upsampled image to the target size\n",
    "            img = img.resize(target_size)\n",
    "            \n",
    "            # Save the upsampled image to the output folder\n",
    "            output_path = os.path.join(output_dir, subfolder, filename)\n",
    "            img.save(output_path)\n",
    "            print(f'Saved upsampled image to: {output_path}')\n"
   ]
  }
 ],
 "metadata": {
  "kernelspec": {
   "display_name": "Python 3 (ipykernel)",
   "language": "python",
   "name": "python3"
  },
  "language_info": {
   "codemirror_mode": {
    "name": "ipython",
    "version": 3
   },
   "file_extension": ".py",
   "mimetype": "text/x-python",
   "name": "python",
   "nbconvert_exporter": "python",
   "pygments_lexer": "ipython3",
   "version": "3.9.16"
  }
 },
 "nbformat": 4,
 "nbformat_minor": 5
}
